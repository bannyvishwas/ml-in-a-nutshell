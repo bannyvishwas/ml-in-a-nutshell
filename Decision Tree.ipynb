{
 "cells": [
  {
   "cell_type": "code",
   "execution_count": null,
   "id": "e6da2fde",
   "metadata": {},
   "outputs": [],
   "source": [
    "import numpy as np\n",
    "from collections import Counter\n",
    "from sklearn import datasets\n",
    "from sklearn.model_selection import train_test_split"
   ]
  },
  {
   "cell_type": "code",
   "execution_count": null,
   "id": "f1d0b519",
   "metadata": {},
   "outputs": [],
   "source": [
    "data = datasets.load_breast_cancer()\n",
    "X, y = data.data, data.target\n",
    "\n",
    "X_train, X_test, y_train, y_test = train_test_split(\n",
    "    X, y, test_size=0.2, random_state=1234\n",
    ")"
   ]
  },
  {
   "cell_type": "code",
   "execution_count": null,
   "id": "13dac832",
   "metadata": {},
   "outputs": [],
   "source": [
    "X.shape,y.shape"
   ]
  },
  {
   "cell_type": "code",
   "execution_count": null,
   "id": "b87f8f5d",
   "metadata": {},
   "outputs": [],
   "source": [
    "def entropy(y):\n",
    "    class_count = np.bincount(y)\n",
    "    prob = [i/len(y) for i in class_count]\n",
    "    entropy = -np.sum([p * np.log(p) for p in prob])\n",
    "    return entropy"
   ]
  },
  {
   "cell_type": "code",
   "execution_count": null,
   "id": "7b00d983",
   "metadata": {},
   "outputs": [],
   "source": [
    "class Node:\n",
    "    def __init__(self,feature = None, threshold = None, left = None, right = None, value = None):\n",
    "        self.feature = feature\n",
    "        self.threshold = threshold\n",
    "        self.left = left\n",
    "        self.right = right\n",
    "        self.value = value\n",
    "    \n",
    "    def is_leaf_node(self):\n",
    "        return self.value is not None"
   ]
  },
  {
   "cell_type": "code",
   "execution_count": null,
   "id": "c51d5155",
   "metadata": {},
   "outputs": [],
   "source": [
    "class DecisionTree():\n",
    "    def __init__(self,min_samples=3,max_depth=100,n_features = None):\n",
    "        self.min_samples = min_samples\n",
    "        self.max_depth = max_depth\n",
    "        self.n_features = n_features\n",
    "        self.root = None\n",
    "    \n",
    "    def fit(self,X,y):\n",
    "        if not self.n_features:\n",
    "            self.n_features = X.shape[1]\n",
    "        else:\n",
    "            self.n_features = min(self.n_features,X.shape[1])\n",
    "        \n",
    "        self.root = self.grow_tree(X,y)\n",
    "            \n",
    "    def grow_tree(self,X,y,depth=0):\n",
    "        n_samples,n_feats = X.shape\n",
    "        n_labels = len(np.unique(y))\n",
    "        \n",
    "        # Leaf Node Condition\n",
    "        \n",
    "        if(depth == self.max_depth or n_samples < self.min_samples or n_labels == 1):\n",
    "            leaf_node = self.most_common_label(y)\n",
    "            return Node(value=leaf_node)\n",
    "        \n",
    "        # Select Feature Index at random\n",
    "        feat_idx = np.random.choice(n_feats,self.n_features,replace=False)\n",
    "        best_idx,best_thresh = self.best_criteria(X,y,feat_idx)\n",
    "        \n",
    "        # Find Left and Right Tree\n",
    "        left_idxs, right_idxs = self.split_data(best_thresh,X[:, best_idx])\n",
    "        left = self.grow_tree(X[left_idxs,:],y[left_idxs],depth+1)\n",
    "        right = self.grow_tree(X[right_idxs,:],y[right_idxs],depth+1)\n",
    "        return Node(best_idx,best_thresh,left,right)\n",
    "    \n",
    "    # Find Majority Vote for label in samples of data\n",
    "    def most_common_label(y):\n",
    "        counter = Counter(y)\n",
    "        most_common = counter.most_common(1)[0][0]\n",
    "        return most_common\n",
    "    \n",
    "    # find best feature and best threshold\n",
    "    def best_criteria(self,X,y,feat_idx):\n",
    "        best_gain = 0 # Best gain from All Features\n",
    "        best_idx = None # Best Feature Index\n",
    "        best_thresh = None # Best threshold to split the Feature\n",
    "        \n",
    "        # Iterate through each feature one by one and find the best threshold\n",
    "        for feat in feat_idx:\n",
    "            feat_samples = X[:,feat]\n",
    "            un_thresh = np.unique(feat_samples)\n",
    "            \n",
    "            # Iterate through each unique value of feature\n",
    "            for thresh in un_thresh:\n",
    "                gain = self.information_gain(y,feat_samples,thresh)\n",
    "                \n",
    "                if gain > best_gain:\n",
    "                    best_thresh = thresh\n",
    "                    best_idx = feat\n",
    "                    best_gain = gain\n",
    "        return best_idx,best_thresh\n",
    "    \n",
    "    # Information Gain\n",
    "    def information_gain(self,y,feat_samples,thresh):\n",
    "        parent_entropy = entropy(y)\n",
    "        \n",
    "        # Split the samples into left and right indexes\n",
    "        left_idxs, right_idxs = self.split_data(thresh,feat_samples)\n",
    "        \n",
    "        if len(left_idxs) == 0 or len(right_idxs) == 0:\n",
    "            return 0\n",
    "\n",
    "        # compute the weighted avg. of the loss for the children\n",
    "        n = len(y)\n",
    "        n_l, n_r = len(left_idxs), len(right_idxs)\n",
    "        e_l, e_r = entropy(y[left_idxs]), entropy(y[right_idxs])\n",
    "        child_entropy = (n_l / n) * e_l + (n_r / n) * e_r\n",
    "\n",
    "        # information gain is difference in loss before vs. after split\n",
    "        ig = parent_entropy - child_entropy\n",
    "        return ig\n",
    "    \n",
    "    def split_data(self,split_thresh,X_column):\n",
    "        left_idxs = np.argwhere(X_column <= split_thresh).flatten()\n",
    "        right_idxs = np.argwhere(X_column > split_thresh).flatten()\n",
    "        return left_idxs,right_idxs\n",
    "    \n",
    "    def predict(self, X):\n",
    "        return np.array([self._traverse_tree(x, self.root) for x in X])\n",
    "    \n",
    "    def _traverse_tree(self, x, node):\n",
    "        if node.is_leaf_node():\n",
    "            return node.value\n",
    "\n",
    "        if x[node.feature] <= node.threshold:\n",
    "            return self._traverse_tree(x, node.left)\n",
    "        return self._traverse_tree(x, node.right)"
   ]
  },
  {
   "cell_type": "code",
   "execution_count": null,
   "id": "74cfadc8",
   "metadata": {},
   "outputs": [],
   "source": [
    "model = DecisionTree()"
   ]
  },
  {
   "cell_type": "code",
   "execution_count": null,
   "id": "e7097bdf",
   "metadata": {},
   "outputs": [],
   "source": [
    "model.fit(X_train,y_train)"
   ]
  },
  {
   "cell_type": "code",
   "execution_count": null,
   "id": "0a7fbf85",
   "metadata": {},
   "outputs": [],
   "source": [
    "y_pred = model.predict(X_test)"
   ]
  },
  {
   "cell_type": "code",
   "execution_count": null,
   "id": "d2640eaa",
   "metadata": {},
   "outputs": [],
   "source": [
    "y_pred,y_test"
   ]
  },
  {
   "cell_type": "code",
   "execution_count": null,
   "id": "85e20932",
   "metadata": {},
   "outputs": [],
   "source": [
    "accuracy = np.sum(y_test == y_pred) / len(y_test)"
   ]
  },
  {
   "cell_type": "code",
   "execution_count": null,
   "id": "61b2c2ce",
   "metadata": {},
   "outputs": [],
   "source": []
  }
 ],
 "metadata": {
  "kernelspec": {
   "display_name": "Python 3 (ipykernel)",
   "language": "python",
   "name": "python3"
  },
  "language_info": {
   "codemirror_mode": {
    "name": "ipython",
    "version": 3
   },
   "file_extension": ".py",
   "mimetype": "text/x-python",
   "name": "python",
   "nbconvert_exporter": "python",
   "pygments_lexer": "ipython3",
   "version": "3.9.12"
  }
 },
 "nbformat": 4,
 "nbformat_minor": 5
}
